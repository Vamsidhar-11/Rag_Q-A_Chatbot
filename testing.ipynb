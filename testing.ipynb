{
 "cells": [
  {
   "cell_type": "code",
   "execution_count": 40,
   "id": "6854bdb0",
   "metadata": {},
   "outputs": [],
   "source": [
    "### importing libraries\n",
    "import os\n",
    "from dotenv import load_dotenv\n",
    "from langchain_community.llms import Ollama\n",
    "from langchain_chroma import Chroma\n",
    "from langchain_community.document_loaders import WebBaseLoader\n",
    "from langchain_core.prompts import ChatPromptTemplate\n",
    "from langchain_text_splitters import RecursiveCharacterTextSplitter\n",
    "from langchain.chains import create_retrieval_chain\n",
    "from langchain.chains.combine_documents import create_stuff_documents_chain\n",
    "import bs4\n",
    "from langchain_huggingface import HuggingFaceEmbeddings"
   ]
  },
  {
   "cell_type": "code",
   "execution_count": 41,
   "id": "971d7c7a",
   "metadata": {},
   "outputs": [],
   "source": [
    "### loading environment variables\n",
    "load_dotenv()\n",
    "os.environ['HF_TOKEN']=os.getenv(\"HF_TOKEN\")"
   ]
  },
  {
   "cell_type": "code",
   "execution_count": 8,
   "id": "9987edc1",
   "metadata": {},
   "outputs": [
    {
     "name": "stderr",
     "output_type": "stream",
     "text": [
      "C:\\Users\\vamsi\\AppData\\Local\\Temp\\ipykernel_13452\\1263823765.py:2: LangChainDeprecationWarning: The class `Ollama` was deprecated in LangChain 0.3.1 and will be removed in 1.0.0. An updated version of the class exists in the :class:`~langchain-ollama package and should be used instead. To use it run `pip install -U :class:`~langchain-ollama` and import as `from :class:`~langchain_ollama import OllamaLLM``.\n",
      "  llm=Ollama(model=\"gemma3:1b\")\n"
     ]
    }
   ],
   "source": [
    "### initializing llm model\n",
    "llm=Ollama(model=\"gemma3:1b\")"
   ]
  },
  {
   "cell_type": "code",
   "execution_count": 43,
   "id": "9f56faff",
   "metadata": {},
   "outputs": [
    {
     "name": "stderr",
     "output_type": "stream",
     "text": [
      "d:\\main_project_space\\generative_ai_projects\\Q&A_chatbot\\venv\\Lib\\site-packages\\tqdm\\auto.py:21: TqdmWarning: IProgress not found. Please update jupyter and ipywidgets. See https://ipywidgets.readthedocs.io/en/stable/user_install.html\n",
      "  from .autonotebook import tqdm as notebook_tqdm\n"
     ]
    }
   ],
   "source": [
    "### initializing Embedding model\n",
    "embeddings=HuggingFaceEmbeddings(model_name=\"all-MiniLM-L6-v2\")"
   ]
  },
  {
   "cell_type": "code",
   "execution_count": 27,
   "id": "53019087",
   "metadata": {},
   "outputs": [
    {
     "data": {
      "text/plain": [
       "[Document(metadata={'source': 'https://www.cricbuzz.com/cricket-news/135464/bangladesh-cricket-board-news-bcb-elections-set-for-early-october-amid-conflict-of-interest-concerns'}, page_content=' Bangladesh Cricket Board announced on Monday (September 1) that the upcoming elections of the board will be held in the first week of October. Cricbuzz had earlier reported that a decision regarding BCB election will be taken following the board meeting that took place at Sylhet earlier today.  \"The BCB election will be held in the first week of October. The election commission will confirm the exact date,\" BCB vice-president Nazmul Abedin told reporters following the meeting. \"The Election Commission has not yet been formed by name. The responsibility of recommending names has been left to the President. A three-member Election Commission will be formed, and I believe we will know about it within a couple of days. We will follow the directions from the constitution,\" he said.  Though the date is yet to be released, it is understood that the election might take place on October 4.  Earlier, Tamim Iqbal had announced that he is ready to join the board in the coming days.  Recent media reports suggested that current BCB President Aminul Islam is considering to run for the board\\'s presidency in the upcoming election. This has sparked controversy following BCB vice-president Nazmul\\'s statement that Aminul will be recommending the members of the Election Commission. Many have raised concerns, arguing that if Aminul intends to contest for the presidency, it would potentially be a conflict of interest for him to be involved in appointing the EC. Nazmul however clarified that Aminul will seek the board\\'s approval before finalizing the commission.  \"No, it is not a conflict. Although the president has been given the responsibility, he will do it in consultation with the board members. There are guidelines on how it should be done, including what backgrounds the members should come from,\" said Nazmul.  He also revealed that BCB have decided to approve IMG as the sports marketing consulting firm, while adding that they have also formed a four-member committee to review the recommendation submitted by BPL fact-finding committee.  \"The BCB has approved IMG as the BPL\\'s sports marketing consulting firm and their contract is for three years. IMG is one of the leading and most reputed marketing firms. BCB is in a bid to improve the BPL\\'s quality, for which we have appointed IMG. We are hopeful they can have a good role in improving the BPL. We have a three-year deal with them,\" said Nazmul.  \"We have already informed you that the BPL\\'s fact-finding committees have submitted their report to us. We have formed a four-member team, mostly made up of people from the legal side, who will review the report, and inform BCB what actions it should take. They will report to us by September 7,\" said Nazmul.  Nazmul added that they have appointed former umpire Simon Taufel in an advisory role on a two-year deal.  \"We will see Simon Taufel in an important role in Bangladesh\\'s umpiring department. He is coming for two years. He will assess, evaluate and grade the umpires. We will learn from him so that we can work with our resources once he leaves,\" said Nazmul.  \"We will host an international standard batting programme in September. Some of the top batting coaches will be present, to do a skill programme for our local coaches. We are very excited about it, as this is the first time we will see such an event in Bangladesh,\" he said.  \"We will also organize a level-3 coaching course in Bangladesh. Australian educators, like Ashley Ross, will conduct the course. It will be a high-profile programme. Those who haven\\'t completed a level-3 coaching course, will participate in the programme. It could be around 15-20 coaches,\" he added.  Meanwhile, Julian Wood\\'s contract will not be extended beyond September 3. If needed later, he will be brought back again.  The meeting was chaired by the BCB boss Aminul while some board directors joined the meeting through Zoom. However, Aminul didn\\'t face the media after the meeting. ')]"
      ]
     },
     "execution_count": 27,
     "metadata": {},
     "output_type": "execute_result"
    }
   ],
   "source": [
    "### load, chunk and create indexes of this blog to create a retriever\n",
    "loader=WebBaseLoader(\n",
    "    web_paths=(\"https://www.cricbuzz.com/cricket-news/135464/bangladesh-cricket-board-news-bcb-elections-set-for-early-october-amid-conflict-of-interest-concerns\",),\n",
    "    bs_kwargs=dict(\n",
    "        parse_only=bs4.SoupStrainer(\n",
    "            class_=(\"cb-nws-para\")\n",
    "        )\n",
    "    ),\n",
    ")\n",
    "\n",
    "docs=loader.load()\n",
    "docs"
   ]
  },
  {
   "cell_type": "code",
   "execution_count": 33,
   "id": "9b188a9f",
   "metadata": {},
   "outputs": [],
   "source": [
    "### chunking documents\n",
    "text_splitter=RecursiveCharacterTextSplitter(chunk_size=1000,chunk_overlap=200)\n",
    "splits=text_splitter.split_documents(docs)"
   ]
  },
  {
   "cell_type": "code",
   "execution_count": 34,
   "id": "e9588297",
   "metadata": {},
   "outputs": [
    {
     "data": {
      "text/plain": [
       "[Document(metadata={'source': 'https://www.cricbuzz.com/cricket-news/135464/bangladesh-cricket-board-news-bcb-elections-set-for-early-october-amid-conflict-of-interest-concerns'}, page_content='Bangladesh Cricket Board announced on Monday (September 1) that the upcoming elections of the board will be held in the first week of October. Cricbuzz had earlier reported that a decision regarding BCB election will be taken following the board meeting that took place at Sylhet earlier today.  \"The BCB election will be held in the first week of October. The election commission will confirm the exact date,\" BCB vice-president Nazmul Abedin told reporters following the meeting. \"The Election Commission has not yet been formed by name. The responsibility of recommending names has been left to the President. A three-member Election Commission will be formed, and I believe we will know about it within a couple of days. We will follow the directions from the constitution,\" he said.  Though the date is yet to be released, it is understood that the election might take place on October 4.  Earlier, Tamim Iqbal had announced that he is ready to join the board in the coming days.  Recent media'),\n",
       " Document(metadata={'source': 'https://www.cricbuzz.com/cricket-news/135464/bangladesh-cricket-board-news-bcb-elections-set-for-early-october-amid-conflict-of-interest-concerns'}, page_content='date is yet to be released, it is understood that the election might take place on October 4.  Earlier, Tamim Iqbal had announced that he is ready to join the board in the coming days.  Recent media reports suggested that current BCB President Aminul Islam is considering to run for the board\\'s presidency in the upcoming election. This has sparked controversy following BCB vice-president Nazmul\\'s statement that Aminul will be recommending the members of the Election Commission. Many have raised concerns, arguing that if Aminul intends to contest for the presidency, it would potentially be a conflict of interest for him to be involved in appointing the EC. Nazmul however clarified that Aminul will seek the board\\'s approval before finalizing the commission.  \"No, it is not a conflict. Although the president has been given the responsibility, he will do it in consultation with the board members. There are guidelines on how it should be done, including what backgrounds the members should'),\n",
       " Document(metadata={'source': 'https://www.cricbuzz.com/cricket-news/135464/bangladesh-cricket-board-news-bcb-elections-set-for-early-october-amid-conflict-of-interest-concerns'}, page_content='the president has been given the responsibility, he will do it in consultation with the board members. There are guidelines on how it should be done, including what backgrounds the members should come from,\" said Nazmul.  He also revealed that BCB have decided to approve IMG as the sports marketing consulting firm, while adding that they have also formed a four-member committee to review the recommendation submitted by BPL fact-finding committee.  \"The BCB has approved IMG as the BPL\\'s sports marketing consulting firm and their contract is for three years. IMG is one of the leading and most reputed marketing firms. BCB is in a bid to improve the BPL\\'s quality, for which we have appointed IMG. We are hopeful they can have a good role in improving the BPL. We have a three-year deal with them,\" said Nazmul.  \"We have already informed you that the BPL\\'s fact-finding committees have submitted their report to us. We have formed a four-member team, mostly made up of people from the legal'),\n",
       " Document(metadata={'source': 'https://www.cricbuzz.com/cricket-news/135464/bangladesh-cricket-board-news-bcb-elections-set-for-early-october-amid-conflict-of-interest-concerns'}, page_content='them,\" said Nazmul.  \"We have already informed you that the BPL\\'s fact-finding committees have submitted their report to us. We have formed a four-member team, mostly made up of people from the legal side, who will review the report, and inform BCB what actions it should take. They will report to us by September 7,\" said Nazmul.  Nazmul added that they have appointed former umpire Simon Taufel in an advisory role on a two-year deal.  \"We will see Simon Taufel in an important role in Bangladesh\\'s umpiring department. He is coming for two years. He will assess, evaluate and grade the umpires. We will learn from him so that we can work with our resources once he leaves,\" said Nazmul.  \"We will host an international standard batting programme in September. Some of the top batting coaches will be present, to do a skill programme for our local coaches. We are very excited about it, as this is the first time we will see such an event in Bangladesh,\" he said.  \"We will also organize a level-3'),\n",
       " Document(metadata={'source': 'https://www.cricbuzz.com/cricket-news/135464/bangladesh-cricket-board-news-bcb-elections-set-for-early-october-amid-conflict-of-interest-concerns'}, page_content='be present, to do a skill programme for our local coaches. We are very excited about it, as this is the first time we will see such an event in Bangladesh,\" he said.  \"We will also organize a level-3 coaching course in Bangladesh. Australian educators, like Ashley Ross, will conduct the course. It will be a high-profile programme. Those who haven\\'t completed a level-3 coaching course, will participate in the programme. It could be around 15-20 coaches,\" he added.  Meanwhile, Julian Wood\\'s contract will not be extended beyond September 3. If needed later, he will be brought back again.  The meeting was chaired by the BCB boss Aminul while some board directors joined the meeting through Zoom. However, Aminul didn\\'t face the media after the meeting.')]"
      ]
     },
     "execution_count": 34,
     "metadata": {},
     "output_type": "execute_result"
    }
   ],
   "source": [
    "splits"
   ]
  },
  {
   "cell_type": "code",
   "execution_count": 45,
   "id": "46760c5f",
   "metadata": {},
   "outputs": [
    {
     "data": {
      "text/plain": [
       "VectorStoreRetriever(tags=['Chroma', 'HuggingFaceEmbeddings'], vectorstore=<langchain_chroma.vectorstores.Chroma object at 0x0000026C9B44C180>, search_kwargs={})"
      ]
     },
     "execution_count": 45,
     "metadata": {},
     "output_type": "execute_result"
    }
   ],
   "source": [
    "### initializing vectordatabase\n",
    "vectorstore=Chroma.from_documents(documents=splits,embedding=embeddings)\n",
    "retriever=vectorstore.as_retriever()\n",
    "retriever"
   ]
  },
  {
   "cell_type": "code",
   "execution_count": 46,
   "id": "29af2ee6",
   "metadata": {},
   "outputs": [],
   "source": [
    "### prompt\n",
    "system_prompt = (\n",
    "    \"You are an assistant for question-answering tasks. \"\n",
    "    \"Use the following pieces of retrieved context to answer \"\n",
    "    \"the question. If you don't know the answer, say that you \"\n",
    "    \"don't know. Use three sentences maximum and keep the \"\n",
    "    \"answer concise.\"\n",
    "    \"\\n\\n\"\n",
    "    \"{context}\"\n",
    ")\n",
    "\n",
    "prompt = ChatPromptTemplate.from_messages(\n",
    "    [\n",
    "        (\"system\", system_prompt),\n",
    "        (\"human\", \"{input}\"),\n",
    "    ]\n",
    ")"
   ]
  },
  {
   "cell_type": "code",
   "execution_count": 47,
   "id": "50701e8b",
   "metadata": {},
   "outputs": [],
   "source": [
    "### creating chain\n",
    "question_answer_chain=create_stuff_documents_chain(llm,prompt)\n",
    "rag_chain=create_retrieval_chain(retriever,question_answer_chain)"
   ]
  },
  {
   "cell_type": "code",
   "execution_count": 49,
   "id": "97090250",
   "metadata": {},
   "outputs": [
    {
     "data": {
      "text/plain": [
       "{'input': 'what this Blog telling about?',\n",
       " 'context': [Document(id='aeec4dd2-c72e-44ee-83e0-80eb3d41863f', metadata={'source': 'https://www.cricbuzz.com/cricket-news/135464/bangladesh-cricket-board-news-bcb-elections-set-for-early-october-amid-conflict-of-interest-concerns'}, page_content='be present, to do a skill programme for our local coaches. We are very excited about it, as this is the first time we will see such an event in Bangladesh,\" he said.  \"We will also organize a level-3 coaching course in Bangladesh. Australian educators, like Ashley Ross, will conduct the course. It will be a high-profile programme. Those who haven\\'t completed a level-3 coaching course, will participate in the programme. It could be around 15-20 coaches,\" he added.  Meanwhile, Julian Wood\\'s contract will not be extended beyond September 3. If needed later, he will be brought back again.  The meeting was chaired by the BCB boss Aminul while some board directors joined the meeting through Zoom. However, Aminul didn\\'t face the media after the meeting.'),\n",
       "  Document(id='ca75ad74-d027-4814-b837-d76d1ff6975b', metadata={'source': 'https://www.cricbuzz.com/cricket-news/135464/bangladesh-cricket-board-news-bcb-elections-set-for-early-october-amid-conflict-of-interest-concerns'}, page_content='them,\" said Nazmul.  \"We have already informed you that the BPL\\'s fact-finding committees have submitted their report to us. We have formed a four-member team, mostly made up of people from the legal side, who will review the report, and inform BCB what actions it should take. They will report to us by September 7,\" said Nazmul.  Nazmul added that they have appointed former umpire Simon Taufel in an advisory role on a two-year deal.  \"We will see Simon Taufel in an important role in Bangladesh\\'s umpiring department. He is coming for two years. He will assess, evaluate and grade the umpires. We will learn from him so that we can work with our resources once he leaves,\" said Nazmul.  \"We will host an international standard batting programme in September. Some of the top batting coaches will be present, to do a skill programme for our local coaches. We are very excited about it, as this is the first time we will see such an event in Bangladesh,\" he said.  \"We will also organize a level-3'),\n",
       "  Document(id='076a8d56-b045-4889-916b-8d54bff4afe2', metadata={'source': 'https://www.cricbuzz.com/cricket-news/135464/bangladesh-cricket-board-news-bcb-elections-set-for-early-october-amid-conflict-of-interest-concerns'}, page_content='date is yet to be released, it is understood that the election might take place on October 4.  Earlier, Tamim Iqbal had announced that he is ready to join the board in the coming days.  Recent media reports suggested that current BCB President Aminul Islam is considering to run for the board\\'s presidency in the upcoming election. This has sparked controversy following BCB vice-president Nazmul\\'s statement that Aminul will be recommending the members of the Election Commission. Many have raised concerns, arguing that if Aminul intends to contest for the presidency, it would potentially be a conflict of interest for him to be involved in appointing the EC. Nazmul however clarified that Aminul will seek the board\\'s approval before finalizing the commission.  \"No, it is not a conflict. Although the president has been given the responsibility, he will do it in consultation with the board members. There are guidelines on how it should be done, including what backgrounds the members should'),\n",
       "  Document(id='198410c8-5d7c-4e36-9854-db7588e140c7', metadata={'source': 'https://www.cricbuzz.com/cricket-news/135464/bangladesh-cricket-board-news-bcb-elections-set-for-early-october-amid-conflict-of-interest-concerns'}, page_content='the president has been given the responsibility, he will do it in consultation with the board members. There are guidelines on how it should be done, including what backgrounds the members should come from,\" said Nazmul.  He also revealed that BCB have decided to approve IMG as the sports marketing consulting firm, while adding that they have also formed a four-member committee to review the recommendation submitted by BPL fact-finding committee.  \"The BCB has approved IMG as the BPL\\'s sports marketing consulting firm and their contract is for three years. IMG is one of the leading and most reputed marketing firms. BCB is in a bid to improve the BPL\\'s quality, for which we have appointed IMG. We are hopeful they can have a good role in improving the BPL. We have a three-year deal with them,\" said Nazmul.  \"We have already informed you that the BPL\\'s fact-finding committees have submitted their report to us. We have formed a four-member team, mostly made up of people from the legal')],\n",
       " 'answer': 'The text is telling about an upcoming event in Bangladesh where a series of skill programmes for local coaches will be held, including a level-3 coaching course and an international batting programme. There’s also a potential election for the BCB president, and a discussion about potential conflicts of interest.'}"
      ]
     },
     "execution_count": 49,
     "metadata": {},
     "output_type": "execute_result"
    }
   ],
   "source": [
    "response=rag_chain.invoke({\"input\":\"what this Blog telling about?\"})\n",
    "response"
   ]
  },
  {
   "cell_type": "code",
   "execution_count": 50,
   "id": "732b53e0",
   "metadata": {},
   "outputs": [
    {
     "data": {
      "text/plain": [
       "'The text is telling about an upcoming event in Bangladesh where a series of skill programmes for local coaches will be held, including a level-3 coaching course and an international batting programme. There’s also a potential election for the BCB president, and a discussion about potential conflicts of interest.'"
      ]
     },
     "execution_count": 50,
     "metadata": {},
     "output_type": "execute_result"
    }
   ],
   "source": [
    "response['answer']"
   ]
  },
  {
   "cell_type": "code",
   "execution_count": null,
   "id": "75a182c1",
   "metadata": {},
   "outputs": [],
   "source": []
  }
 ],
 "metadata": {
  "kernelspec": {
   "display_name": "venv",
   "language": "python",
   "name": "python3"
  },
  "language_info": {
   "codemirror_mode": {
    "name": "ipython",
    "version": 3
   },
   "file_extension": ".py",
   "mimetype": "text/x-python",
   "name": "python",
   "nbconvert_exporter": "python",
   "pygments_lexer": "ipython3",
   "version": "3.13.1"
  }
 },
 "nbformat": 4,
 "nbformat_minor": 5
}
