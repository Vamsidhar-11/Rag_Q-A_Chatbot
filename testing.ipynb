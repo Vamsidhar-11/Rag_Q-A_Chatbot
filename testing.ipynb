{
 "cells": [
  {
   "cell_type": "code",
   "execution_count": 52,
   "id": "6854bdb0",
   "metadata": {},
   "outputs": [],
   "source": [
    "### importing libraries\n",
    "import os\n",
    "from dotenv import load_dotenv\n",
    "from langchain_community.llms import Ollama\n",
    "from langchain_chroma import Chroma\n",
    "from langchain_community.document_loaders import WebBaseLoader\n",
    "from langchain_core.prompts import ChatPromptTemplate\n",
    "from langchain_text_splitters import RecursiveCharacterTextSplitter\n",
    "from langchain.chains import create_retrieval_chain\n",
    "from langchain.chains.combine_documents import create_stuff_documents_chain\n",
    "import bs4\n",
    "from langchain_huggingface import HuggingFaceEmbeddings"
   ]
  },
  {
   "cell_type": "code",
   "execution_count": 53,
   "id": "971d7c7a",
   "metadata": {},
   "outputs": [],
   "source": [
    "### loading environment variables\n",
    "load_dotenv()\n",
    "os.environ['HF_TOKEN']=os.getenv(\"HF_TOKEN\")"
   ]
  },
  {
   "cell_type": "code",
   "execution_count": 54,
   "id": "9987edc1",
   "metadata": {},
   "outputs": [],
   "source": [
    "### initializing llm model\n",
    "llm=Ollama(model=\"gemma3:1b\")"
   ]
  },
  {
   "cell_type": "code",
   "execution_count": 55,
   "id": "9f56faff",
   "metadata": {},
   "outputs": [],
   "source": [
    "### initializing Embedding model\n",
    "embeddings=HuggingFaceEmbeddings(model_name=\"all-MiniLM-L6-v2\")"
   ]
  },
  {
   "cell_type": "code",
   "execution_count": 56,
   "id": "53019087",
   "metadata": {},
   "outputs": [
    {
     "data": {
      "text/plain": [
       "[Document(metadata={'source': 'https://www.cricbuzz.com/cricket-news/135464/bangladesh-cricket-board-news-bcb-elections-set-for-early-october-amid-conflict-of-interest-concerns', 'title': 'BCB elections set for early October amid conflict of interest concerns | Cricbuzz.com', 'description': 'Though the date is yet to be released, it is understood that the election might take place on October 4', 'language': 'en'}, page_content='\\n BCB elections set for early October amid conflict of interest concerns | Cricbuzz.com  ✖Live ScoresScheduleArchivesNewsAll Stories  Premium Editorials Latest NewsTopicsSpotlightOpinionsSpecialsStats & AnalysisInterviewsLive BlogsHarsha BhogleSeries  Asia Cup 2025 South Africa tour of England, 2025 Caribbean Premier League 2025 The Hundred Mens Competition 2025 Australia Women tour of India, 2025 ICC Womens World Cup 2025 India tour of England, 2025 South Africa tour of Australia, 2025 The Hundred Womens Competition 2025 Duleep Trophy 2025 All Series »Teams   Test Teams India Afghanistan Ireland Pakistan Australia Sri Lanka Bangladesh England West Indies South Africa Zimbabwe New Zealand   Associate Malaysia Nepal Germany Namibia Denmark Singapore Papua New Guinea Kuwait Vanuatu Jersey Oman Fiji   More... Videos  All Videos Categories Playlists   RankingsICC Rankings - MenICC Rankings - Women More World Test Championship World Cup Super League Photos Mobile AppsCareersContact Us  {{premiumScreenName}}     My Account Sign Out MATCHESAFG vs UAE - LiveTKR vs SNP - LiveNED vs BAN - BAN wonCGS vs AKS - CGS wonENG vs RSA - PreviewAllLive NowTodayINTERNATIONALSouth Africa tour of EnglandEngland vs South Africa1st ODIUAE T20I Tri-Series 2025Afghanistan vs United Arab Emirates\\xa0\\xa0LIVE3rd MatchPakistan vs Afghanistan4th MatchICC CWC League Two 2023-27Canada vs Scotland82nd MatchCanada vs Namibia83rd MatchBangladesh vs Netherlands 2025Netherlands vs Bangladesh2nd T20IT20 LEAGUECPL 2025Antigua and Barbuda Falcons vs Saint Lucia Kings18th MatchTrinbago Knight Riders vs St Kitts and Nevis Patriots\\xa0\\xa0LIVE19th MatchKCL2025Alleppey Ripples vs Thrissur Titans23rd MatchCalicut Globstars vs Aries Kollam Sailors24th MatchKochi Blue Tigers vs Calicut Globstars25th MatchThrissur Titans vs Adani Trivandrum Royals26th MatchUPPL 2025Lucknow Falcons vs Kashi Rudras30th MatchDOMESTICSouth Africa A v New Zealand A, 2025New Zealand A vs South Africa A2nd Unofficial ODIWOMENWomens ICC T20 Tri-Series 2025Brazil Women vs Isle of Man Women2nd MatchJersey Women vs Isle of Man Women3rd MatchIsle of Man Women vs Jersey Women4th MatchICC Womens T20 World Cup Africa Region Division One QualifierSierra Leone Women vs Zimbabwe Women5th Match, Group AKenya Women vs Tanzania Women6th Match, Group BNamibia Women vs Nigeria Women7th Match, Group ARwanda Women vs Uganda Women8th Match, Group B         BANGLADESH NEWS    BCB elections set for early October amid conflict of interest concerns   by\\xa0    Atif Azam    \\xa0•\\xa0   Last updated on     ShareTweet         \"The election commission will confirm the exact date,\" said BCB vice-president Nazmul Abedin. © BCB     Bangladesh Cricket Board announced on Monday (September 1) that the upcoming elections of the board will be held in the first week of October. Cricbuzz had earlier reported that a decision regarding BCB election will be taken following the board meeting that took place at Sylhet earlier today.     \"The BCB election will be held in the first week of October. The election commission will confirm the exact date,\" BCB vice-president Nazmul Abedin told reporters following the meeting. \"The Election Commission has not yet been formed by name. The responsibility of recommending names has been left to the President. A three-member Election Commission will be formed, and I believe we will know about it within a couple of days. We will follow the directions from the constitution,\" he said.     Though the date is yet to be released, it is understood that the election might take place on October 4.        Earlier, Tamim Iqbal had announced that he is ready to join the board in the coming days.     Recent media reports suggested that current BCB President Aminul Islam is considering to run for the board\\'s presidency in the upcoming election. This has sparked controversy following BCB vice-president Nazmul\\'s statement that Aminul will be recommending the members of the Election Commission. Many have raised concerns, arguing that if Aminul intends to contest for the presidency, it would potentially be a conflict of interest for him to be involved in appointing the EC. Nazmul however clarified that Aminul will seek the board\\'s approval before finalizing the commission.     \"No, it is not a conflict. Although the president has been given the responsibility, he will do it in consultation with the board members. There are guidelines on how it should be done, including what backgrounds the members should come from,\" said Nazmul.     He also revealed that BCB have decided to approve IMG as the sports marketing consulting firm, while adding that they have also formed a four-member committee to review the recommendation submitted by BPL fact-finding committee.     \"The BCB has approved IMG as the BPL\\'s sports marketing consulting firm and their contract is for three years. IMG is one of the leading and most reputed marketing firms. BCB is in a bid to improve the BPL\\'s quality, for which we have appointed IMG. We are hopeful they can have a good role in improving the BPL. We have a three-year deal with them,\" said Nazmul.     \"We have already informed you that the BPL\\'s fact-finding committees have submitted their report to us. We have formed a four-member team, mostly made up of people from the legal side, who will review the report, and inform BCB what actions it should take. They will report to us by September 7,\" said Nazmul.     Nazmul added that they have appointed former umpire Simon Taufel in an advisory role on a two-year deal.     \"We will see Simon Taufel in an important role in Bangladesh\\'s umpiring department. He is coming for two years. He will assess, evaluate and grade the umpires. We will learn from him so that we can work with our resources once he leaves,\" said Nazmul.     \"We will host an international standard batting programme in September. Some of the top batting coaches will be present, to do a skill programme for our local coaches. We are very excited about it, as this is the first time we will see such an event in Bangladesh,\" he said.     \"We will also organize a level-3 coaching course in Bangladesh. Australian educators, like Ashley Ross, will conduct the course. It will be a high-profile programme. Those who haven\\'t completed a level-3 coaching course, will participate in the programme. It could be around 15-20 coaches,\" he added.     Meanwhile, Julian Wood\\'s contract will not be extended beyond September 3. If needed later, he will be brought back again.     The meeting was chaired by the BCB boss Aminul while some board directors joined the meeting through Zoom. However, Aminul didn\\'t face the media after the meeting.    © Cricbuzz   ShareTweet   TAGS    Bangladesh        COMMENTS       LATEST NEWS   Netherlands blame poor shot-selections, not absence of seniors, for series loss29m ago   Nasum, Tanzid power Bangladesh to series win34m ago  Flaky England take on shaky South Africa1h ago  BCB elections set for early October amid conflict of interest concerns3h ago  Jamie Overton takes indefinite break from red-ball cricket7h ago  ICC announce massive prize money hike for Women\\'s ODI World Cup 20259h ago  More News      We use cookies to improve your experience on our site and to show you non-personalized ads. Find out more in our privacy policy and cookie policyOKMOBILE SITE & APPSm.cricbuzz.comAndroidiOSFOLLOW US ONfacebooktwitteryoutubePinterestCOMPANYCareersAdvertiseCricbuzz TV AdsPrivacy Preferences{{ link.name }}© 2025 Cricbuzz.com, Cricbuzz Platforms Limited. All rights reserved | The Times of India | Navbharat TimesMove to top ')]"
      ]
     },
     "execution_count": 56,
     "metadata": {},
     "output_type": "execute_result"
    }
   ],
   "source": [
    "### load, chunk and create indexes of this blog to create a retriever\n",
    "loader=WebBaseLoader(\n",
    "    web_paths=(\"https://www.cricbuzz.com/cricket-news/135464/bangladesh-cricket-board-news-bcb-elections-set-for-early-october-amid-conflict-of-interest-concerns\",),\n",
    ")\n",
    "\n",
    "docs=loader.load()\n",
    "docs"
   ]
  },
  {
   "cell_type": "code",
   "execution_count": 57,
   "id": "9b188a9f",
   "metadata": {},
   "outputs": [],
   "source": [
    "### chunking documents\n",
    "text_splitter=RecursiveCharacterTextSplitter(chunk_size=1000,chunk_overlap=200)\n",
    "splits=text_splitter.split_documents(docs)"
   ]
  },
  {
   "cell_type": "code",
   "execution_count": 58,
   "id": "e9588297",
   "metadata": {},
   "outputs": [
    {
     "data": {
      "text/plain": [
       "[Document(metadata={'source': 'https://www.cricbuzz.com/cricket-news/135464/bangladesh-cricket-board-news-bcb-elections-set-for-early-october-amid-conflict-of-interest-concerns', 'title': 'BCB elections set for early October amid conflict of interest concerns | Cricbuzz.com', 'description': 'Though the date is yet to be released, it is understood that the election might take place on October 4', 'language': 'en'}, page_content='BCB elections set for early October amid conflict of interest concerns | Cricbuzz.com  ✖Live ScoresScheduleArchivesNewsAll Stories  Premium Editorials Latest NewsTopicsSpotlightOpinionsSpecialsStats & AnalysisInterviewsLive BlogsHarsha BhogleSeries  Asia Cup 2025 South Africa tour of England, 2025 Caribbean Premier League 2025 The Hundred Mens Competition 2025 Australia Women tour of India, 2025 ICC Womens World Cup 2025 India tour of England, 2025 South Africa tour of Australia, 2025 The Hundred Womens Competition 2025 Duleep Trophy 2025 All Series »Teams   Test Teams India Afghanistan Ireland Pakistan Australia Sri Lanka Bangladesh England West Indies South Africa Zimbabwe New Zealand   Associate Malaysia Nepal Germany Namibia Denmark Singapore Papua New Guinea Kuwait Vanuatu Jersey Oman Fiji   More... Videos  All Videos Categories Playlists   RankingsICC Rankings - MenICC Rankings - Women More World Test Championship World Cup Super League Photos Mobile AppsCareersContact Us'),\n",
       " Document(metadata={'source': 'https://www.cricbuzz.com/cricket-news/135464/bangladesh-cricket-board-news-bcb-elections-set-for-early-october-amid-conflict-of-interest-concerns', 'title': 'BCB elections set for early October amid conflict of interest concerns | Cricbuzz.com', 'description': 'Though the date is yet to be released, it is understood that the election might take place on October 4', 'language': 'en'}, page_content='Oman Fiji   More... Videos  All Videos Categories Playlists   RankingsICC Rankings - MenICC Rankings - Women More World Test Championship World Cup Super League Photos Mobile AppsCareersContact Us  {{premiumScreenName}}     My Account Sign Out MATCHESAFG vs UAE - LiveTKR vs SNP - LiveNED vs BAN - BAN wonCGS vs AKS - CGS wonENG vs RSA - PreviewAllLive NowTodayINTERNATIONALSouth Africa tour of EnglandEngland vs South Africa1st ODIUAE T20I Tri-Series 2025Afghanistan vs United Arab Emirates\\xa0\\xa0LIVE3rd MatchPakistan vs Afghanistan4th MatchICC CWC League Two 2023-27Canada vs Scotland82nd MatchCanada vs Namibia83rd MatchBangladesh vs Netherlands 2025Netherlands vs Bangladesh2nd T20IT20 LEAGUECPL 2025Antigua and Barbuda Falcons vs Saint Lucia Kings18th MatchTrinbago Knight Riders vs St Kitts and Nevis Patriots\\xa0\\xa0LIVE19th MatchKCL2025Alleppey Ripples vs Thrissur Titans23rd MatchCalicut Globstars vs Aries Kollam Sailors24th MatchKochi Blue Tigers vs Calicut Globstars25th MatchThrissur Titans vs'),\n",
       " Document(metadata={'source': 'https://www.cricbuzz.com/cricket-news/135464/bangladesh-cricket-board-news-bcb-elections-set-for-early-october-amid-conflict-of-interest-concerns', 'title': 'BCB elections set for early October amid conflict of interest concerns | Cricbuzz.com', 'description': 'Though the date is yet to be released, it is understood that the election might take place on October 4', 'language': 'en'}, page_content='Nevis Patriots\\xa0\\xa0LIVE19th MatchKCL2025Alleppey Ripples vs Thrissur Titans23rd MatchCalicut Globstars vs Aries Kollam Sailors24th MatchKochi Blue Tigers vs Calicut Globstars25th MatchThrissur Titans vs Adani Trivandrum Royals26th MatchUPPL 2025Lucknow Falcons vs Kashi Rudras30th MatchDOMESTICSouth Africa A v New Zealand A, 2025New Zealand A vs South Africa A2nd Unofficial ODIWOMENWomens ICC T20 Tri-Series 2025Brazil Women vs Isle of Man Women2nd MatchJersey Women vs Isle of Man Women3rd MatchIsle of Man Women vs Jersey Women4th MatchICC Womens T20 World Cup Africa Region Division One QualifierSierra Leone Women vs Zimbabwe Women5th Match, Group AKenya Women vs Tanzania Women6th Match, Group BNamibia Women vs Nigeria Women7th Match, Group ARwanda Women vs Uganda Women8th Match, Group B         BANGLADESH NEWS    BCB elections set for early October amid conflict of interest concerns   by\\xa0    Atif Azam    \\xa0•\\xa0   Last updated on     ShareTweet         \"The election commission will confirm'),\n",
       " Document(metadata={'source': 'https://www.cricbuzz.com/cricket-news/135464/bangladesh-cricket-board-news-bcb-elections-set-for-early-october-amid-conflict-of-interest-concerns', 'title': 'BCB elections set for early October amid conflict of interest concerns | Cricbuzz.com', 'description': 'Though the date is yet to be released, it is understood that the election might take place on October 4', 'language': 'en'}, page_content='BANGLADESH NEWS    BCB elections set for early October amid conflict of interest concerns   by\\xa0    Atif Azam    \\xa0•\\xa0   Last updated on     ShareTweet         \"The election commission will confirm the exact date,\" said BCB vice-president Nazmul Abedin. © BCB     Bangladesh Cricket Board announced on Monday (September 1) that the upcoming elections of the board will be held in the first week of October. Cricbuzz had earlier reported that a decision regarding BCB election will be taken following the board meeting that took place at Sylhet earlier today.     \"The BCB election will be held in the first week of October. The election commission will confirm the exact date,\" BCB vice-president Nazmul Abedin told reporters following the meeting. \"The Election Commission has not yet been formed by name. The responsibility of recommending names has been left to the President. A three-member Election Commission will be formed, and I believe we will know about it within a couple of days. We'),\n",
       " Document(metadata={'source': 'https://www.cricbuzz.com/cricket-news/135464/bangladesh-cricket-board-news-bcb-elections-set-for-early-october-amid-conflict-of-interest-concerns', 'title': 'BCB elections set for early October amid conflict of interest concerns | Cricbuzz.com', 'description': 'Though the date is yet to be released, it is understood that the election might take place on October 4', 'language': 'en'}, page_content='by name. The responsibility of recommending names has been left to the President. A three-member Election Commission will be formed, and I believe we will know about it within a couple of days. We will follow the directions from the constitution,\" he said.     Though the date is yet to be released, it is understood that the election might take place on October 4.        Earlier, Tamim Iqbal had announced that he is ready to join the board in the coming days.     Recent media reports suggested that current BCB President Aminul Islam is considering to run for the board\\'s presidency in the upcoming election. This has sparked controversy following BCB vice-president Nazmul\\'s statement that Aminul will be recommending the members of the Election Commission. Many have raised concerns, arguing that if Aminul intends to contest for the presidency, it would potentially be a conflict of interest for him to be involved in appointing the EC. Nazmul however clarified that Aminul will seek the'),\n",
       " Document(metadata={'source': 'https://www.cricbuzz.com/cricket-news/135464/bangladesh-cricket-board-news-bcb-elections-set-for-early-october-amid-conflict-of-interest-concerns', 'title': 'BCB elections set for early October amid conflict of interest concerns | Cricbuzz.com', 'description': 'Though the date is yet to be released, it is understood that the election might take place on October 4', 'language': 'en'}, page_content='that if Aminul intends to contest for the presidency, it would potentially be a conflict of interest for him to be involved in appointing the EC. Nazmul however clarified that Aminul will seek the board\\'s approval before finalizing the commission.     \"No, it is not a conflict. Although the president has been given the responsibility, he will do it in consultation with the board members. There are guidelines on how it should be done, including what backgrounds the members should come from,\" said Nazmul.     He also revealed that BCB have decided to approve IMG as the sports marketing consulting firm, while adding that they have also formed a four-member committee to review the recommendation submitted by BPL fact-finding committee.     \"The BCB has approved IMG as the BPL\\'s sports marketing consulting firm and their contract is for three years. IMG is one of the leading and most reputed marketing firms. BCB is in a bid to improve the BPL\\'s quality, for which we have appointed IMG. We'),\n",
       " Document(metadata={'source': 'https://www.cricbuzz.com/cricket-news/135464/bangladesh-cricket-board-news-bcb-elections-set-for-early-october-amid-conflict-of-interest-concerns', 'title': 'BCB elections set for early October amid conflict of interest concerns | Cricbuzz.com', 'description': 'Though the date is yet to be released, it is understood that the election might take place on October 4', 'language': 'en'}, page_content='consulting firm and their contract is for three years. IMG is one of the leading and most reputed marketing firms. BCB is in a bid to improve the BPL\\'s quality, for which we have appointed IMG. We are hopeful they can have a good role in improving the BPL. We have a three-year deal with them,\" said Nazmul.     \"We have already informed you that the BPL\\'s fact-finding committees have submitted their report to us. We have formed a four-member team, mostly made up of people from the legal side, who will review the report, and inform BCB what actions it should take. They will report to us by September 7,\" said Nazmul.     Nazmul added that they have appointed former umpire Simon Taufel in an advisory role on a two-year deal.     \"We will see Simon Taufel in an important role in Bangladesh\\'s umpiring department. He is coming for two years. He will assess, evaluate and grade the umpires. We will learn from him so that we can work with our resources once he leaves,\" said Nazmul.     \"We will'),\n",
       " Document(metadata={'source': 'https://www.cricbuzz.com/cricket-news/135464/bangladesh-cricket-board-news-bcb-elections-set-for-early-october-amid-conflict-of-interest-concerns', 'title': 'BCB elections set for early October amid conflict of interest concerns | Cricbuzz.com', 'description': 'Though the date is yet to be released, it is understood that the election might take place on October 4', 'language': 'en'}, page_content='department. He is coming for two years. He will assess, evaluate and grade the umpires. We will learn from him so that we can work with our resources once he leaves,\" said Nazmul.     \"We will host an international standard batting programme in September. Some of the top batting coaches will be present, to do a skill programme for our local coaches. We are very excited about it, as this is the first time we will see such an event in Bangladesh,\" he said.     \"We will also organize a level-3 coaching course in Bangladesh. Australian educators, like Ashley Ross, will conduct the course. It will be a high-profile programme. Those who haven\\'t completed a level-3 coaching course, will participate in the programme. It could be around 15-20 coaches,\" he added.     Meanwhile, Julian Wood\\'s contract will not be extended beyond September 3. If needed later, he will be brought back again.     The meeting was chaired by the BCB boss Aminul while some board directors joined the meeting through'),\n",
       " Document(metadata={'source': 'https://www.cricbuzz.com/cricket-news/135464/bangladesh-cricket-board-news-bcb-elections-set-for-early-october-amid-conflict-of-interest-concerns', 'title': 'BCB elections set for early October amid conflict of interest concerns | Cricbuzz.com', 'description': 'Though the date is yet to be released, it is understood that the election might take place on October 4', 'language': 'en'}, page_content=\"will not be extended beyond September 3. If needed later, he will be brought back again.     The meeting was chaired by the BCB boss Aminul while some board directors joined the meeting through Zoom. However, Aminul didn't face the media after the meeting.    © Cricbuzz   ShareTweet   TAGS    Bangladesh        COMMENTS       LATEST NEWS   Netherlands blame poor shot-selections, not absence of seniors, for series loss29m ago   Nasum, Tanzid power Bangladesh to series win34m ago  Flaky England take on shaky South Africa1h ago  BCB elections set for early October amid conflict of interest concerns3h ago  Jamie Overton takes indefinite break from red-ball cricket7h ago  ICC announce massive prize money hike for Women's ODI World Cup 20259h ago  More News      We use cookies to improve your experience on our site and to show you non-personalized ads. Find out more in our privacy policy and cookie policyOKMOBILE SITE & APPSm.cricbuzz.comAndroidiOSFOLLOW US\"),\n",
       " Document(metadata={'source': 'https://www.cricbuzz.com/cricket-news/135464/bangladesh-cricket-board-news-bcb-elections-set-for-early-october-amid-conflict-of-interest-concerns', 'title': 'BCB elections set for early October amid conflict of interest concerns | Cricbuzz.com', 'description': 'Though the date is yet to be released, it is understood that the election might take place on October 4', 'language': 'en'}, page_content='We use cookies to improve your experience on our site and to show you non-personalized ads. Find out more in our privacy policy and cookie policyOKMOBILE SITE & APPSm.cricbuzz.comAndroidiOSFOLLOW US ONfacebooktwitteryoutubePinterestCOMPANYCareersAdvertiseCricbuzz TV AdsPrivacy Preferences{{ link.name }}© 2025 Cricbuzz.com, Cricbuzz Platforms Limited. All rights reserved | The Times of India | Navbharat TimesMove to top')]"
      ]
     },
     "execution_count": 58,
     "metadata": {},
     "output_type": "execute_result"
    }
   ],
   "source": [
    "splits"
   ]
  },
  {
   "cell_type": "code",
   "execution_count": 59,
   "id": "46760c5f",
   "metadata": {},
   "outputs": [
    {
     "data": {
      "text/plain": [
       "VectorStoreRetriever(tags=['Chroma', 'HuggingFaceEmbeddings'], vectorstore=<langchain_chroma.vectorstores.Chroma object at 0x0000026C9B44D5B0>, search_kwargs={})"
      ]
     },
     "execution_count": 59,
     "metadata": {},
     "output_type": "execute_result"
    }
   ],
   "source": [
    "### initializing vectordatabase\n",
    "vectorstore=Chroma.from_documents(documents=splits,embedding=embeddings)\n",
    "retriever=vectorstore.as_retriever()\n",
    "retriever"
   ]
  },
  {
   "cell_type": "code",
   "execution_count": 60,
   "id": "29af2ee6",
   "metadata": {},
   "outputs": [],
   "source": [
    "### prompt\n",
    "system_prompt = (\n",
    "    \"You are an assistant for question-answering tasks. \"\n",
    "    \"Use the following pieces of retrieved context to answer \"\n",
    "    \"the question. If you don't know the answer, say that you \"\n",
    "    \"don't know. Use three sentences maximum and keep the \"\n",
    "    \"answer concise.\"\n",
    "    \"\\n\\n\"\n",
    "    \"{context}\"\n",
    ")\n",
    "\n",
    "prompt = ChatPromptTemplate.from_messages(\n",
    "    [\n",
    "        (\"system\", system_prompt),\n",
    "        (\"human\", \"{input}\"),\n",
    "    ]\n",
    ")"
   ]
  },
  {
   "cell_type": "code",
   "execution_count": 61,
   "id": "50701e8b",
   "metadata": {},
   "outputs": [],
   "source": [
    "### creating chain\n",
    "question_answer_chain=create_stuff_documents_chain(llm,prompt)\n",
    "rag_chain=create_retrieval_chain(retriever,question_answer_chain)"
   ]
  },
  {
   "cell_type": "code",
   "execution_count": 62,
   "id": "97090250",
   "metadata": {},
   "outputs": [
    {
     "data": {
      "text/plain": [
       "{'input': 'what this Blog telling about?',\n",
       " 'context': [Document(id='be101c3a-5589-4bf7-9283-1531dc18ace0', metadata={'source': 'https://www.cricbuzz.com/cricket-news/135464/bangladesh-cricket-board-news-bcb-elections-set-for-early-october-amid-conflict-of-interest-concerns', 'title': 'BCB elections set for early October amid conflict of interest concerns | Cricbuzz.com', 'description': 'Though the date is yet to be released, it is understood that the election might take place on October 4', 'language': 'en'}, page_content='We use cookies to improve your experience on our site and to show you non-personalized ads. Find out more in our privacy policy and cookie policyOKMOBILE SITE & APPSm.cricbuzz.comAndroidiOSFOLLOW US ONfacebooktwitteryoutubePinterestCOMPANYCareersAdvertiseCricbuzz TV AdsPrivacy Preferences{{ link.name }}© 2025 Cricbuzz.com, Cricbuzz Platforms Limited. All rights reserved | The Times of India | Navbharat TimesMove to top'),\n",
       "  Document(id='aeec4dd2-c72e-44ee-83e0-80eb3d41863f', metadata={'source': 'https://www.cricbuzz.com/cricket-news/135464/bangladesh-cricket-board-news-bcb-elections-set-for-early-october-amid-conflict-of-interest-concerns'}, page_content='be present, to do a skill programme for our local coaches. We are very excited about it, as this is the first time we will see such an event in Bangladesh,\" he said.  \"We will also organize a level-3 coaching course in Bangladesh. Australian educators, like Ashley Ross, will conduct the course. It will be a high-profile programme. Those who haven\\'t completed a level-3 coaching course, will participate in the programme. It could be around 15-20 coaches,\" he added.  Meanwhile, Julian Wood\\'s contract will not be extended beyond September 3. If needed later, he will be brought back again.  The meeting was chaired by the BCB boss Aminul while some board directors joined the meeting through Zoom. However, Aminul didn\\'t face the media after the meeting.'),\n",
       "  Document(id='4678974e-0ce6-4258-86ee-30d881f0eb12', metadata={'title': 'BCB elections set for early October amid conflict of interest concerns | Cricbuzz.com', 'description': 'Though the date is yet to be released, it is understood that the election might take place on October 4', 'language': 'en', 'source': 'https://www.cricbuzz.com/cricket-news/135464/bangladesh-cricket-board-news-bcb-elections-set-for-early-october-amid-conflict-of-interest-concerns'}, page_content='by name. The responsibility of recommending names has been left to the President. A three-member Election Commission will be formed, and I believe we will know about it within a couple of days. We will follow the directions from the constitution,\" he said.     Though the date is yet to be released, it is understood that the election might take place on October 4.        Earlier, Tamim Iqbal had announced that he is ready to join the board in the coming days.     Recent media reports suggested that current BCB President Aminul Islam is considering to run for the board\\'s presidency in the upcoming election. This has sparked controversy following BCB vice-president Nazmul\\'s statement that Aminul will be recommending the members of the Election Commission. Many have raised concerns, arguing that if Aminul intends to contest for the presidency, it would potentially be a conflict of interest for him to be involved in appointing the EC. Nazmul however clarified that Aminul will seek the'),\n",
       "  Document(id='2474f92c-a079-41e3-b277-d409611d98b0', metadata={'source': 'https://www.cricbuzz.com/cricket-news/135464/bangladesh-cricket-board-news-bcb-elections-set-for-early-october-amid-conflict-of-interest-concerns', 'title': 'BCB elections set for early October amid conflict of interest concerns | Cricbuzz.com', 'language': 'en', 'description': 'Though the date is yet to be released, it is understood that the election might take place on October 4'}, page_content=\"will not be extended beyond September 3. If needed later, he will be brought back again.     The meeting was chaired by the BCB boss Aminul while some board directors joined the meeting through Zoom. However, Aminul didn't face the media after the meeting.    © Cricbuzz   ShareTweet   TAGS    Bangladesh        COMMENTS       LATEST NEWS   Netherlands blame poor shot-selections, not absence of seniors, for series loss29m ago   Nasum, Tanzid power Bangladesh to series win34m ago  Flaky England take on shaky South Africa1h ago  BCB elections set for early October amid conflict of interest concerns3h ago  Jamie Overton takes indefinite break from red-ball cricket7h ago  ICC announce massive prize money hike for Women's ODI World Cup 20259h ago  More News      We use cookies to improve your experience on our site and to show you non-personalized ads. Find out more in our privacy policy and cookie policyOKMOBILE SITE & APPSm.cricbuzz.comAndroidiOSFOLLOW US\")],\n",
       " 'answer': 'The blog is discussing Cricbuzz’s election process, particularly regarding the upcoming election for the Board of Directors of the Cricket Board of Bangladesh.'}"
      ]
     },
     "execution_count": 62,
     "metadata": {},
     "output_type": "execute_result"
    }
   ],
   "source": [
    "response=rag_chain.invoke({\"input\":\"what this Blog telling about?\"})\n",
    "response"
   ]
  },
  {
   "cell_type": "code",
   "execution_count": 63,
   "id": "732b53e0",
   "metadata": {},
   "outputs": [
    {
     "data": {
      "text/plain": [
       "'The blog is discussing Cricbuzz’s election process, particularly regarding the upcoming election for the Board of Directors of the Cricket Board of Bangladesh.'"
      ]
     },
     "execution_count": 63,
     "metadata": {},
     "output_type": "execute_result"
    }
   ],
   "source": [
    "response['answer']"
   ]
  },
  {
   "cell_type": "code",
   "execution_count": null,
   "id": "75a182c1",
   "metadata": {},
   "outputs": [],
   "source": []
  }
 ],
 "metadata": {
  "kernelspec": {
   "display_name": "venv",
   "language": "python",
   "name": "python3"
  },
  "language_info": {
   "codemirror_mode": {
    "name": "ipython",
    "version": 3
   },
   "file_extension": ".py",
   "mimetype": "text/x-python",
   "name": "python",
   "nbconvert_exporter": "python",
   "pygments_lexer": "ipython3",
   "version": "3.13.1"
  }
 },
 "nbformat": 4,
 "nbformat_minor": 5
}
